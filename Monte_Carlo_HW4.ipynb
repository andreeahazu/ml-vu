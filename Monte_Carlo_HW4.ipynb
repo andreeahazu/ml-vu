{
  "nbformat": 4,
  "nbformat_minor": 0,
  "metadata": {
    "colab": {
      "name": "Monte Carlo HW4.ipynb",
      "provenance": [],
      "collapsed_sections": [],
      "include_colab_link": true
    },
    "kernelspec": {
      "name": "python3",
      "display_name": "Python 3"
    }
  },
  "cells": [
    {
      "cell_type": "markdown",
      "metadata": {
        "id": "view-in-github",
        "colab_type": "text"
      },
      "source": [
        "<a href=\"https://colab.research.google.com/github/andreeahazu/ml-vu/blob/master/Monte_Carlo_HW4.ipynb\" target=\"_parent\"><img src=\"https://colab.research.google.com/assets/colab-badge.svg\" alt=\"Open In Colab\"/></a>"
      ]
    },
    {
      "cell_type": "markdown",
      "metadata": {
        "id": "iTYFYuhMqIux"
      },
      "source": [
        "4.1 Monte Carlo simulation for X ~ (0,1), estimating value of E(cos**2(X))"
      ]
    },
    {
      "cell_type": "code",
      "metadata": {
        "colab": {
          "base_uri": "https://localhost:8080/"
        },
        "id": "lwMmKv4CqFkw",
        "outputId": "686fc960-ea27-4a85-886e-afb0f8a8f1a1"
      },
      "source": [
        "from numpy import random as random\n",
        "from numpy import absolute as absolute\n",
        "\n",
        "from matplotlib import pyplot\n",
        "import matplotlib.pyplot as plt\n",
        "from math import cos \n",
        "\n",
        "N = [10, 20, 30, 40, 50, 100, 200, 500, 1000]\n",
        "results = [] \n",
        "for n in N:\n",
        "  sumCosPower2 = 0\n",
        "  uncertainlyN = 0\n",
        "  previousResult = 0\n",
        "  for i in range(n):\n",
        "    x = random.normal(0,1)\n",
        "    cosPower2 = cos(x)**2\n",
        "    sumCosPower2 = sumCosPower2 + cosPower2\n",
        "    resultN = sumCosPower2 / n\n",
        "    uncertainlyDelta = absolute(resultN - previousResult)\n",
        "    previousResult = resultN\n",
        "    uncertainlyN = uncertainlyN + uncertainlyDelta\n",
        "  uncertainly =  (uncertainlyN**2)/n\n",
        "  results.append((n, resultN, uncertainly))\n",
        "\n",
        "print (\"(N,    E(cos^2(X),          uncertainty)\")\n",
        "for t in results: print(t)\n",
        "\n"
      ],
      "execution_count": null,
      "outputs": [
        {
          "output_type": "stream",
          "text": [
            "(N,    E(cos^2(X),          uncertainty)\n",
            "(10, 0.43780924356628875, 0.019167693375208593)\n",
            "(20, 0.46780265713449765, 0.010941966301104817)\n",
            "(30, 0.5493696598672496, 0.010060234106088584)\n",
            "(40, 0.5720895359269809, 0.008182160927928709)\n",
            "(50, 0.5223821325420611, 0.00545766184798383)\n",
            "(100, 0.5485620143314575, 0.0030092028356738616)\n",
            "(200, 0.6147770850193737, 0.001889754321324591)\n",
            "(500, 0.5981580310047677, 0.0007155860601110013)\n",
            "(1000, 0.5647385176903712, 0.0003189295933631177)\n"
          ],
          "name": "stdout"
        }
      ]
    },
    {
      "cell_type": "code",
      "metadata": {
        "colab": {
          "base_uri": "https://localhost:8080/"
        },
        "id": "yub-sU4GV3J1",
        "outputId": "528f479e-134a-42d3-811f-0d62a50ea4bb"
      },
      "source": [
        "# Monte Carlo approximation\n",
        "import numpy as np\n",
        "\n",
        "def f(x):\n",
        "    return np.cos(x) ** 2\n",
        "\n",
        "noTrials = 10\n",
        "prev_sol = -10000\n",
        "for n in 10**np.array([1,2,3,4,5,6,7,8]):\n",
        "    sol = 0\n",
        "    solutions = []\n",
        "    for i in range(noTrials):\n",
        "      x = np.random.standard_normal(n)\n",
        "      y = f(x)\n",
        "      total_sum = np.sum(y)\n",
        "      sol = total_sum/n\n",
        "      solutions.append(sol)\n",
        "    solutions_diff = np.absolute(np.diff(np.array(solutions)))\n",
        "    uncertainty = np.average(solutions_diff) \n",
        "    uncertainty2 = np.std(y) / np.sqrt(n)\n",
        "    print ('%10d %.6f %.6f %.6f' % (n, sol, uncertainty, uncertainty2))\n",
        "  \n",
        "  "
      ],
      "execution_count": 15,
      "outputs": [
        {
          "output_type": "stream",
          "text": [
            "        10 0.701787 0.169646 0.080853\n",
            "       100 0.579443 0.037998 0.033887\n",
            "      1000 0.560027 0.013488 0.011238\n",
            "     10000 0.569653 0.004601 0.003452\n",
            "    100000 0.568826 0.001776 0.001098\n",
            "   1000000 0.567582 0.000487 0.000347\n",
            "  10000000 0.567722 0.000113 0.000110\n",
            " 100000000 0.567638 0.000036 0.000035\n"
          ],
          "name": "stdout"
        }
      ]
    },
    {
      "cell_type": "code",
      "metadata": {
        "colab": {
          "base_uri": "https://localhost:8080/"
        },
        "id": "gAvA2X9OwKPn",
        "outputId": "e1e9b712-f719-4d46-bb11-b4ed0f5a3c23"
      },
      "source": [
        "#Check analytical solution\n",
        "import sympy\n",
        "from sympy.stats import Normal\n",
        "from sympy import cos, integrate\n",
        "\n",
        "x = Normal('x', 0, 1)\n",
        "expr = integrate(cos(x)**2, (x,0,1))\n",
        "expr.evalf()"
      ],
      "execution_count": null,
      "outputs": [
        {
          "output_type": "execute_result",
          "data": {
            "text/plain": [
              "0.727324356706420"
            ]
          },
          "metadata": {
            "tags": []
          },
          "execution_count": 7
        }
      ]
    },
    {
      "cell_type": "code",
      "metadata": {
        "colab": {
          "base_uri": "https://localhost:8080/"
        },
        "id": "jpI8ycwtwOr8",
        "outputId": "85055600-3537-46e7-af0f-4b5bb3797b64"
      },
      "source": [
        "# Monte Carlo approximation\n",
        "import numpy as np\n",
        "\n",
        "def f(x):\n",
        "    return np.cos(x) ** 2\n",
        "\n",
        "noTrials = 10\n",
        "prev_sol = -10000\n",
        "for n in 10**np.array([1,2,3,4,5,6,7,8]):\n",
        "    sol = 0\n",
        "    solutions = []\n",
        "    for i in range(noTrials):\n",
        "      x = np.random.standard_normal(n)\n",
        "      y = f(x)\n",
        "      total_sum = np.sum(y)\n",
        "      sol = total_sum/n\n",
        "      solutions.append(sol)\n",
        "    solutions_diff = np.absolute(np.diff(np.array(solutions)))\n",
        "    uncertainty = np.average(solutions_diff) \n",
        "    print ('%10d %.6f %.6f' % (n, sol, uncertainty))\n",
        "  \n",
        "  "
      ],
      "execution_count": null,
      "outputs": [
        {
          "output_type": "stream",
          "text": [
            " 100000000 0.567654 0.000040\n"
          ],
          "name": "stdout"
        }
      ]
    },
    {
      "cell_type": "markdown",
      "metadata": {
        "id": "EK0QlmVBc9Of"
      },
      "source": [
        "4.1.2. MC to decide if correlation is significant?\n",
        "\n",
        "score function S, hyperparameter A, correlation 0.3; 10 data points; "
      ]
    },
    {
      "cell_type": "code",
      "metadata": {
        "colab": {
          "base_uri": "https://localhost:8080/"
        },
        "id": "QehB6SttdWvN",
        "outputId": "46dc21ff-7fc5-4f59-f14a-9efcc8f587cb"
      },
      "source": [
        "# Monte Carlo approximation correlation\n",
        "import numpy as np\n",
        "import scipy.stats\n",
        "\n",
        "default_corr = 0.3\n",
        "data_points = 10\n",
        "\n",
        "for n in 10**np.array([1,2,3,4,5,6]):\n",
        "  corr = []\n",
        "  for j in range(n):\n",
        "    s = np.random.standard_normal(data_points)\n",
        "    a = np.random.standard_normal(data_points)\n",
        "    corr.append(scipy.stats.pearsonr(s, a)[0])\n",
        "\n",
        "  p_val = len([x for x in corr if x >= default_corr]) / n\n",
        "  print ('%10d %.6f' % (n, p_val))"
      ],
      "execution_count": 11,
      "outputs": [
        {
          "output_type": "stream",
          "text": [
            "        10 0.100000\n",
            "       100 0.180000\n",
            "      1000 0.197000\n",
            "     10000 0.200600\n",
            "    100000 0.200960\n",
            "   1000000 0.200471\n"
          ],
          "name": "stdout"
        }
      ]
    },
    {
      "cell_type": "markdown",
      "metadata": {
        "id": "Xft0NYVitDVD"
      },
      "source": [
        "4.2.1. Use importance sampling to estimate E(X2) \n",
        "\n",
        "1/2 * fi(x) * p(x) / q(x)\n",
        "\n",
        "q ∼ U(−5; 5)\n",
        "\n",
        "phi(x) = x**2"
      ]
    },
    {
      "cell_type": "code",
      "metadata": {
        "colab": {
          "base_uri": "https://localhost:8080/"
        },
        "id": "K7RUFR3ktIZa",
        "outputId": "55485551-704e-4bf1-ee04-ca0637e6cf03"
      },
      "source": [
        "# Importance sampling\n",
        "import numpy as np\n",
        "from scipy.stats import norm\n",
        "\n",
        "def f(x):\n",
        "    return x ** 2\n",
        "\n",
        "for n in 10**np.array([1,2,3,4,5,6,7,8]):\n",
        "    x = np.random.uniform(-5, 5, n)\n",
        "    normpdf = norm.pdf(x) # this is equivalent to p(x)/q(x)\n",
        "    sol = f(x)*normpdf\n",
        "    estimate_phi = np.mean(sol)\n",
        "    uncertainty = np.std(sol) / np.sqrt(n)\n",
        "    print ('%10d %.6f %.8f' % (n, estimate_phi, uncertainty))\n",
        "  "
      ],
      "execution_count": 26,
      "outputs": [
        {
          "output_type": "stream",
          "text": [
            "        10 0.099693 0.03365196\n",
            "       100 0.109843 0.01035295\n",
            "      1000 0.099967 0.00334609\n",
            "     10000 0.101170 0.00106261\n",
            "    100000 0.100311 0.00033420\n",
            "   1000000 0.099961 0.00010562\n",
            "  10000000 0.099966 0.00003340\n",
            " 100000000 0.100017 0.00001056\n"
          ],
          "name": "stdout"
        }
      ]
    },
    {
      "cell_type": "code",
      "metadata": {
        "id": "eUFLvsZyKaZw"
      },
      "source": [
        ""
      ],
      "execution_count": null,
      "outputs": []
    }
  ]
}