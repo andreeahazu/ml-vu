{
 "cells": [
  {
   "cell_type": "markdown",
   "metadata": {},
   "source": [
    "plot the f function = cos(x) * cos(x)"
   ]
  },
  {
   "cell_type": "code",
   "execution_count": 42,
   "metadata": {},
   "outputs": [
    {
     "data": {
      "image/png": "[encoded data removed]",
      "text/plain": [
       "<Figure size 432x288 with 1 Axes>"
      ]
     },
     "metadata": {
      "needs_background": "light"
     },
     "output_type": "display_data"
    }
   ],
   "source": [
    "import scipy as sp\n",
    "import matplotlib.pyplot as plt\n",
    "import numpy as np\n",
    "\n",
    "def f(x):\n",
    "    return np.cos(x) * np.cos(x)\n",
    "\n",
    "x = np.linspace(0, 1, 100)\n",
    "plt.plot(x, f(x));"
   ]
  },
  {
   "cell_type": "markdown",
   "metadata": {},
   "source": [
    "Check analytical solution"
   ]
  },
  {
   "cell_type": "code",
   "execution_count": 44,
   "metadata": {},
   "outputs": [
    {
     "data": {
      "text/latex": [
       "$\\displaystyle 0.72732435670642$"
      ],
      "text/plain": [
       "0.727324356706420"
      ]
     },
     "execution_count": 44,
     "metadata": {},
     "output_type": "execute_result"
    }
   ],
   "source": [
    "import sympy\n",
    "from sympy import cos, symbols, integrate\n",
    "\n",
    "x = symbols('x')\n",
    "expr = integrate(cos(x)*cos(x), (x,0,1))\n",
    "expr.evalf()"
   ]
  },
  {
   "cell_type": "markdown",
   "metadata": {},
   "source": [
    "Monte Carlo estimation\n",
    "Generate n random numbers from a standard normal distribution X ~ N(0,1)\n",
    "We generate first 10 samplesm then 100, then 1000, 10000"
   ]
  },
  {
   "cell_type": "code",
   "execution_count": 46,
   "metadata": {},
   "outputs": [
    {
     "name": "stdout",
     "output_type": "stream",
     "text": [
      "        10 0.734743\n",
      "       100 0.701965\n",
      "      1000 0.729130\n",
      "     10000 0.723047\n",
      "    100000 0.726641\n",
      "   1000000 0.727422\n",
      "  10000000 0.727373\n",
      " 100000000 0.727314\n"
     ]
    }
   ],
   "source": [
    "# Monte Carlo approximation\n",
    "for n in 10**np.array([1,2,3,4,5,6,7,8]):\n",
    "    x = np.random.uniform(0, 1, n)\n",
    "    y = f(x)\n",
    "    total_sum = np.sum(y)\n",
    "    sol = total_sum/n\n",
    "    print ('%10d %.6f' % (n, sol))"
   ]
  }
 ],
 "metadata": {
  "kernelspec": {
   "display_name": "Python 3",
   "language": "python",
   "name": "python3"
  },
  "language_info": {
   "codemirror_mode": {
    "name": "ipython",
    "version": 3
   },
   "file_extension": ".py",
   "mimetype": "text/x-python",
   "name": "python",
   "nbconvert_exporter": "python",
   "pygments_lexer": "ipython3",
   "version": "3.7.4"
  }
 },
 "nbformat": 4,
 "nbformat_minor": 4
}
